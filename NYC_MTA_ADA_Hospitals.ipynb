{
 "cells": [
  {
   "cell_type": "code",
   "execution_count": null,
   "metadata": {},
   "outputs": [],
   "source": [
    "#import modules\n",
    "import geopandas as gpd"
   ]
  },
  {
   "cell_type": "code",
   "execution_count": null,
   "metadata": {},
   "outputs": [],
   "source": [
    "#add MTA data to geopandas dataframe\n",
    "mta_csv = '/Users/davidhugens/Documents/Work/GIS/Data/NYC/MTA_Subway_Stations_20240117.csv'\n",
    "df_mta = gpd.read_file(mta_csv)\n",
    "geometry = gpd.points_from_xy(df_mta['GTFS Longitude'], df_mta['GTFS Latitude'])\n",
    "gdf_mta = gpd.GeoDataFrame(df_mta, geometry=geometry, crs=4326)\n",
    "gdf_mta = gdf_mta.to_crs(epsg=2263)\n",
    "gdf_mta.head(3)"
   ]
  },
  {
   "cell_type": "code",
   "execution_count": null,
   "metadata": {},
   "outputs": [],
   "source": [
    "#add Hospitals data to geopandas dataframe\n",
    "hospitals_csv = '/Users/davidhugens/Documents/Work/GIS/Data/NYC/Hospitals.csv'\n",
    "df_hosp = gpd.read_file(hospitals_csv)\n",
    "geometry = gpd.points_from_xy(df_hosp['long'], df_hosp['lat'])\n",
    "gdf_hosp = gpd.GeoDataFrame(df_hosp, geometry=geometry, crs=4326)\n",
    "gdf_hosp = gdf_hosp.to_crs(epsg=2263)\n",
    "gdf_hosp.head(3)"
   ]
  },
  {
   "cell_type": "code",
   "execution_count": null,
   "metadata": {},
   "outputs": [],
   "source": [
    "#limit MTA gdf to only include ada accessible stations\n",
    "mta_ada = gdf_mta[gdf_mta['ADA'] == '1']\n",
    "#visual check\n",
    "mta_ada.head(3)"
   ]
  },
  {
   "cell_type": "code",
   "execution_count": null,
   "metadata": {},
   "outputs": [],
   "source": [
    "#join nearest accessible mta station to hospitals and look at the result\n",
    "hosp_join = gpd.sjoin_nearest(gdf_hosp,mta_ada, how='inner',distance_col=\"dist\")\n",
    "hosp_join['dist_int'] = hosp_join['dist'].astype(int)\n",
    "hosp_acc = hosp_join[hosp_join['dist_int'] <= 1320]\n",
    "hosp_acc = hosp_acc.to_crs(epsg=4326)\n"
   ]
  },
  {
   "cell_type": "code",
   "execution_count": null,
   "metadata": {},
   "outputs": [],
   "source": [
    "#look at the map\n",
    "nyc = gpd.read_file(\"/Users/davidhugens/Documents/Work/GIS/Data/NYC/BoroughBoundaries.geojson\")\n",
    "if nyc.crs != gdf_hosp.crs:\n",
    "    gdf_hosp = gdf_hosp.to_crs(nyc.crs)\n",
    "if nyc.crs != hosp_acc.crs:\n",
    "    hosp_acc = hosp_acc.to_crs(nyc.crs)\n",
    "ax = nyc.plot(alpha = 0.5, legend=True)\n",
    "gdf_hosp.plot(ax=ax, facecolor = 'r', label = \"All Hospitals\")\n",
    "hosp_acc.plot(ax=ax, facecolor = 'g', label = \"Hospitals within 1/4 mile of ADA Accessible Subway\")\n",
    "ax.set_title('NYC Public Hospital Accessibility')\n",
    "ax.set_axis_off()\n",
    "ax.legend(bbox_to_anchor=(0, -.001), loc='upper left')"
   ]
  }
 ],
 "metadata": {
  "kernelspec": {
   "display_name": "Python 3",
   "language": "python",
   "name": "python3"
  },
  "language_info": {
   "codemirror_mode": {
    "name": "ipython",
    "version": 3
   },
   "file_extension": ".py",
   "mimetype": "text/x-python",
   "name": "python",
   "nbconvert_exporter": "python",
   "pygments_lexer": "ipython3",
   "version": "3.11.6"
  }
 },
 "nbformat": 4,
 "nbformat_minor": 2
}
